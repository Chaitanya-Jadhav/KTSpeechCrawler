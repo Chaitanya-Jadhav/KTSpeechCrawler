{
 "cells": [
  {
   "cell_type": "code",
   "execution_count": 27,
   "metadata": {},
   "outputs": [],
   "source": [
    "import subprocess\n",
    "import pandas as pd"
   ]
  },
  {
   "cell_type": "code",
   "execution_count": 44,
   "metadata": {},
   "outputs": [],
   "source": [
    "VID_ID='qSacuVNWdtI'\n",
    "SPK_ID='NPTEL_1'\n",
    "PWD='/home/chaitanya/Documents/test/KTSpeechCrawler/'\n",
    "INTERMEDIATE_DIR=PWD+'inter/'"
   ]
  },
  {
   "cell_type": "code",
   "execution_count": 28,
   "metadata": {},
   "outputs": [],
   "source": [
    "data=pd.read_csv('/home/chaitanya/Documents/NPTEL_SPKS.csv')"
   ]
  },
  {
   "cell_type": "code",
   "execution_count": null,
   "metadata": {
    "scrolled": false
   },
   "outputs": [],
   "source": [
    "for index,row in data.iterrows():\n",
    "    SPK_ID=row.SPEAKER_ID\n",
    "    VID_ID=row.VIDEO_ID\n",
    "    CMD=['youtube-dl',\n",
    "    '--download-archive',\n",
    "    './en-downloaded.txt',\n",
    "    '--no-overwrites',\n",
    "    '-f',\n",
    "    'mp4',\n",
    "    '--restrict-filenames',\n",
    "    '--youtube-skip-dash-manifest',\n",
    "    '--prefer-ffmpeg',\n",
    "    '--socket-timeout',\n",
    "    '20',\n",
    "    '-iwc',\n",
    "    '--write-info-json',\n",
    "    '-k',\n",
    "    '--write-srt',\n",
    "    '--sub-format',\n",
    "    'ttml',\n",
    "    '--sub-lang',\n",
    "    'en',\n",
    "    '--convert-subs',\n",
    "    'vtt',\n",
    "    'https://www.youtube.com/watch?v='+VID_ID,\n",
    "    '-o',\n",
    "    INTERMEDIATE_DIR+SPK_ID+'.%(ext)s',\n",
    "    ]\n",
    "    EXIT_CODE=subprocess.run(CMD).returncode\n",
    "    if EXIT_CODE==0:\n",
    "        subprocess.run(['python3',PWD+'crawler/process.py',PWD+'inter/'+SPK_ID+'.mp4',PWD+'FINAL'])"
   ]
  },
  {
   "cell_type": "code",
   "execution_count": 42,
   "metadata": {},
   "outputs": [
    {
     "data": {
      "text/plain": [
       "Index(['SPEAKER_ID', 'GENDER', 'VIDEO_ID', 'AGE', 'SUBJECT'], dtype='object')"
      ]
     },
     "execution_count": 42,
     "metadata": {},
     "output_type": "execute_result"
    }
   ],
   "source": [
    "data.columns"
   ]
  },
  {
   "cell_type": "code",
   "execution_count": 25,
   "metadata": {},
   "outputs": [],
   "source": [
    "CMD=['youtube-dl',\n",
    " '--download-archive',\n",
    " './en-downloaded.txt',\n",
    " '--no-overwrites',\n",
    " '-f',\n",
    " 'mp4',\n",
    " '--restrict-filenames',\n",
    " '--youtube-skip-dash-manifest',\n",
    " '--prefer-ffmpeg',\n",
    " '--socket-timeout',\n",
    " '20',\n",
    " '-iwc',\n",
    " '--write-info-json',\n",
    " '-k',\n",
    " '--write-srt',\n",
    " '--sub-format',\n",
    " 'ttml',\n",
    " '--sub-lang',\n",
    " 'en',\n",
    " '--convert-subs',\n",
    " 'vtt',\n",
    " 'https://www.youtube.com/watch?v='+VID_ID,\n",
    " '-o',\n",
    " INTERMEDIATE_DIR+SPK_ID+'.%(ext)s',\n",
    " ]\n",
    "EXIT_CODE=subprocess.run(CMD).returncode\n",
    "if EXIT_CODE==0:\n",
    "    subprocess.run(['python3',PWD+'crawler/process.py',PWD+'inter/'+SPK_ID+'.mp4',PWD+'FINAL'])"
   ]
  }
 ],
 "metadata": {
  "kernelspec": {
   "display_name": "Python 3",
   "language": "python",
   "name": "python3"
  },
  "language_info": {
   "codemirror_mode": {
    "name": "ipython",
    "version": 3
   },
   "file_extension": ".py",
   "mimetype": "text/x-python",
   "name": "python",
   "nbconvert_exporter": "python",
   "pygments_lexer": "ipython3",
   "version": "3.6.9"
  }
 },
 "nbformat": 4,
 "nbformat_minor": 2
}
